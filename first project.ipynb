{
 "cells": [
  {
   "cell_type": "code",
   "execution_count": 1,
   "id": "4fb92fb0-d3ad-4a86-b775-64ac6359ca06",
   "metadata": {},
   "outputs": [
    {
     "data": {
      "text/plain": [
       "6"
      ]
     },
     "execution_count": 1,
     "metadata": {},
     "output_type": "execute_result"
    }
   ],
   "source": [
    "1+5"
   ]
  },
  {
   "cell_type": "code",
   "execution_count": 2,
   "id": "b1f5c8d1-ef34-4ac6-8693-41210e61afc0",
   "metadata": {},
   "outputs": [
    {
     "data": {
      "text/plain": [
       "66666"
      ]
     },
     "execution_count": 2,
     "metadata": {},
     "output_type": "execute_result"
    }
   ],
   "source": [
    "12345+54321"
   ]
  },
  {
   "cell_type": "code",
   "execution_count": 3,
   "id": "1f5d81c6-7966-45c8-b18b-e2a6d503dacc",
   "metadata": {},
   "outputs": [
    {
     "data": {
      "text/plain": [
       "246912"
      ]
     },
     "execution_count": 3,
     "metadata": {},
     "output_type": "execute_result"
    }
   ],
   "source": [
    "123456+123456"
   ]
  },
  {
   "cell_type": "code",
   "execution_count": null,
   "id": "f1c40b45-d9ee-4e20-98a4-4a035174aae1",
   "metadata": {},
   "outputs": [],
   "source": [
    " 2+1"
   ]
  },
  {
   "cell_type": "code",
   "execution_count": 1,
   "id": "8fc93784-f37f-4fa5-b4f8-444110444307",
   "metadata": {},
   "outputs": [
    {
     "data": {
      "text/plain": [
       "3"
      ]
     },
     "execution_count": 1,
     "metadata": {},
     "output_type": "execute_result"
    }
   ],
   "source": [
    " 2+1"
   ]
  },
  {
   "cell_type": "code",
   "execution_count": 2,
   "id": "dfe6e530-ad8f-4150-ba84-793e7e0db550",
   "metadata": {},
   "outputs": [
    {
     "data": {
      "text/plain": [
       "6"
      ]
     },
     "execution_count": 2,
     "metadata": {},
     "output_type": "execute_result"
    }
   ],
   "source": [
    "4+2"
   ]
  },
  {
   "cell_type": "code",
   "execution_count": 3,
   "id": "79985a71-9789-4657-a3f1-40d33c543fe1",
   "metadata": {},
   "outputs": [
    {
     "name": "stdout",
     "output_type": "stream",
     "text": [
      "vivek\n"
     ]
    }
   ],
   "source": [
    "print(\"vivek\")"
   ]
  },
  {
   "cell_type": "code",
   "execution_count": null,
   "id": "4f913205-54d6-4681-a64f-e001d390c5b8",
   "metadata": {},
   "outputs": [],
   "source": []
  }
 ],
 "metadata": {
  "kernelspec": {
   "display_name": "Python 3 (ipykernel)",
   "language": "python",
   "name": "python3"
  },
  "language_info": {
   "codemirror_mode": {
    "name": "ipython",
    "version": 3
   },
   "file_extension": ".py",
   "mimetype": "text/x-python",
   "name": "python",
   "nbconvert_exporter": "python",
   "pygments_lexer": "ipython3",
   "version": "3.11.5"
  }
 },
 "nbformat": 4,
 "nbformat_minor": 5
}
